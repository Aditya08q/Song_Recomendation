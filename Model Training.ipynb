{
 "cells": [
  {
   "cell_type": "code",
   "execution_count": 1,
   "id": "50ac34ed",
   "metadata": {},
   "outputs": [],
   "source": [
    "import pandas as pd"
   ]
  },
  {
   "cell_type": "code",
   "execution_count": 2,
   "id": "8d218487",
   "metadata": {},
   "outputs": [],
   "source": [
    "df = pd.read_csv(\"youtube_dataset.csv\")"
   ]
  },
  {
   "cell_type": "code",
   "execution_count": 3,
   "id": "79919672",
   "metadata": {},
   "outputs": [
    {
     "data": {
      "text/html": [
       "<div>\n",
       "<style scoped>\n",
       "    .dataframe tbody tr th:only-of-type {\n",
       "        vertical-align: middle;\n",
       "    }\n",
       "\n",
       "    .dataframe tbody tr th {\n",
       "        vertical-align: top;\n",
       "    }\n",
       "\n",
       "    .dataframe thead th {\n",
       "        text-align: right;\n",
       "    }\n",
       "</style>\n",
       "<table border=\"1\" class=\"dataframe\">\n",
       "  <thead>\n",
       "    <tr style=\"text-align: right;\">\n",
       "      <th></th>\n",
       "      <th>artist</th>\n",
       "      <th>song</th>\n",
       "      <th>text</th>\n",
       "      <th>youtube_url</th>\n",
       "    </tr>\n",
       "  </thead>\n",
       "  <tbody>\n",
       "    <tr>\n",
       "      <th>0</th>\n",
       "      <td>Eric Clapton</td>\n",
       "      <td>Don't Cry Sister</td>\n",
       "      <td>do n't cri sister cri , it 'll be alright in t...</td>\n",
       "      <td>https://www.youtube.com/watch?v=8WZXFlqdE1s</td>\n",
       "    </tr>\n",
       "    <tr>\n",
       "      <th>1</th>\n",
       "      <td>George Strait</td>\n",
       "      <td>Check Yes Or No</td>\n",
       "      <td>it start way back in third grade i use to sit ...</td>\n",
       "      <td>https://www.youtube.com/watch?v=NHxS8wlDngI</td>\n",
       "    </tr>\n",
       "    <tr>\n",
       "      <th>2</th>\n",
       "      <td>Coldplay</td>\n",
       "      <td>Such A Rush</td>\n",
       "      <td>such a rush to do noth at all such a fuss to d...</td>\n",
       "      <td>https://www.youtube.com/watch?v=5bMzeIqiBBY</td>\n",
       "    </tr>\n",
       "    <tr>\n",
       "      <th>3</th>\n",
       "      <td>Phil Collins</td>\n",
       "      <td>I Wish It Would Rain Down</td>\n",
       "      <td>you know i never meant to see you again but i ...</td>\n",
       "      <td>https://www.youtube.com/watch?v=YcY3FH208l8</td>\n",
       "    </tr>\n",
       "    <tr>\n",
       "      <th>4</th>\n",
       "      <td>Elton John</td>\n",
       "      <td>I Must Have Lost It On The Wind</td>\n",
       "      <td>i 'm no longer count i 'm not keep score i cou...</td>\n",
       "      <td>https://www.youtube.com/watch?v=-9dJy5TIRYE</td>\n",
       "    </tr>\n",
       "  </tbody>\n",
       "</table>\n",
       "</div>"
      ],
      "text/plain": [
       "          artist                             song  \\\n",
       "0   Eric Clapton                 Don't Cry Sister   \n",
       "1  George Strait                  Check Yes Or No   \n",
       "2       Coldplay                      Such A Rush   \n",
       "3   Phil Collins        I Wish It Would Rain Down   \n",
       "4     Elton John  I Must Have Lost It On The Wind   \n",
       "\n",
       "                                                text  \\\n",
       "0  do n't cri sister cri , it 'll be alright in t...   \n",
       "1  it start way back in third grade i use to sit ...   \n",
       "2  such a rush to do noth at all such a fuss to d...   \n",
       "3  you know i never meant to see you again but i ...   \n",
       "4  i 'm no longer count i 'm not keep score i cou...   \n",
       "\n",
       "                                   youtube_url  \n",
       "0  https://www.youtube.com/watch?v=8WZXFlqdE1s  \n",
       "1  https://www.youtube.com/watch?v=NHxS8wlDngI  \n",
       "2  https://www.youtube.com/watch?v=5bMzeIqiBBY  \n",
       "3  https://www.youtube.com/watch?v=YcY3FH208l8  \n",
       "4  https://www.youtube.com/watch?v=-9dJy5TIRYE  "
      ]
     },
     "execution_count": 3,
     "metadata": {},
     "output_type": "execute_result"
    }
   ],
   "source": [
    "df.head(5)"
   ]
  },
  {
   "cell_type": "code",
   "execution_count": 4,
   "id": "b61c723f",
   "metadata": {},
   "outputs": [
    {
     "data": {
      "text/html": [
       "<div>\n",
       "<style scoped>\n",
       "    .dataframe tbody tr th:only-of-type {\n",
       "        vertical-align: middle;\n",
       "    }\n",
       "\n",
       "    .dataframe tbody tr th {\n",
       "        vertical-align: top;\n",
       "    }\n",
       "\n",
       "    .dataframe thead th {\n",
       "        text-align: right;\n",
       "    }\n",
       "</style>\n",
       "<table border=\"1\" class=\"dataframe\">\n",
       "  <thead>\n",
       "    <tr style=\"text-align: right;\">\n",
       "      <th></th>\n",
       "      <th>artist</th>\n",
       "      <th>song</th>\n",
       "      <th>text</th>\n",
       "      <th>youtube_url</th>\n",
       "    </tr>\n",
       "  </thead>\n",
       "  <tbody>\n",
       "    <tr>\n",
       "      <th>4995</th>\n",
       "      <td>Annie</td>\n",
       "      <td>Little Girls</td>\n",
       "      <td>miss hannigan littl girl littl girl everywher ...</td>\n",
       "      <td>NaN</td>\n",
       "    </tr>\n",
       "    <tr>\n",
       "      <th>4996</th>\n",
       "      <td>Pitbull</td>\n",
       "      <td>Hey You Girl</td>\n",
       "      <td>ha ha ha yo it that left field thinkin ' out t...</td>\n",
       "      <td>NaN</td>\n",
       "    </tr>\n",
       "    <tr>\n",
       "      <th>4997</th>\n",
       "      <td>Bob Rivers</td>\n",
       "      <td>Read It In The Tabloids</td>\n",
       "      <td>i bet you 're wonder how i knew that princ cha...</td>\n",
       "      <td>NaN</td>\n",
       "    </tr>\n",
       "    <tr>\n",
       "      <th>4998</th>\n",
       "      <td>Ramones</td>\n",
       "      <td>I Remember You</td>\n",
       "      <td>i rememb you i rememb you i rememb you i remem...</td>\n",
       "      <td>NaN</td>\n",
       "    </tr>\n",
       "    <tr>\n",
       "      <th>4999</th>\n",
       "      <td>Michael Jackson</td>\n",
       "      <td>Ease On Down The Road</td>\n",
       "      <td>come on and eas on down , eas on down the road...</td>\n",
       "      <td>NaN</td>\n",
       "    </tr>\n",
       "  </tbody>\n",
       "</table>\n",
       "</div>"
      ],
      "text/plain": [
       "               artist                     song  \\\n",
       "4995            Annie             Little Girls   \n",
       "4996          Pitbull             Hey You Girl   \n",
       "4997       Bob Rivers  Read It In The Tabloids   \n",
       "4998          Ramones           I Remember You   \n",
       "4999  Michael Jackson    Ease On Down The Road   \n",
       "\n",
       "                                                   text youtube_url  \n",
       "4995  miss hannigan littl girl littl girl everywher ...         NaN  \n",
       "4996  ha ha ha yo it that left field thinkin ' out t...         NaN  \n",
       "4997  i bet you 're wonder how i knew that princ cha...         NaN  \n",
       "4998  i rememb you i rememb you i rememb you i remem...         NaN  \n",
       "4999  come on and eas on down , eas on down the road...         NaN  "
      ]
     },
     "execution_count": 4,
     "metadata": {},
     "output_type": "execute_result"
    }
   ],
   "source": [
    "df.tail(5)"
   ]
  },
  {
   "cell_type": "code",
   "execution_count": 5,
   "id": "d7d8fa2a",
   "metadata": {},
   "outputs": [
    {
     "data": {
      "text/plain": [
       "(5000, 4)"
      ]
     },
     "execution_count": 5,
     "metadata": {},
     "output_type": "execute_result"
    }
   ],
   "source": [
    "df.shape"
   ]
  },
  {
   "cell_type": "code",
   "execution_count": 6,
   "id": "a8fdecf9",
   "metadata": {},
   "outputs": [
    {
     "data": {
      "text/plain": [
       "artist            0\n",
       "song              0\n",
       "text              0\n",
       "youtube_url    4900\n",
       "dtype: int64"
      ]
     },
     "execution_count": 6,
     "metadata": {},
     "output_type": "execute_result"
    }
   ],
   "source": [
    "df.isnull().sum()"
   ]
  },
  {
   "cell_type": "code",
   "execution_count": 7,
   "id": "dde3d24b",
   "metadata": {},
   "outputs": [],
   "source": [
    "df =df.sample(5000).drop('youtube_url', axis=1).reset_index(drop=True)"
   ]
  },
  {
   "cell_type": "code",
   "execution_count": 8,
   "id": "cf5ff69f",
   "metadata": {},
   "outputs": [
    {
     "data": {
      "text/html": [
       "<div>\n",
       "<style scoped>\n",
       "    .dataframe tbody tr th:only-of-type {\n",
       "        vertical-align: middle;\n",
       "    }\n",
       "\n",
       "    .dataframe tbody tr th {\n",
       "        vertical-align: top;\n",
       "    }\n",
       "\n",
       "    .dataframe thead th {\n",
       "        text-align: right;\n",
       "    }\n",
       "</style>\n",
       "<table border=\"1\" class=\"dataframe\">\n",
       "  <thead>\n",
       "    <tr style=\"text-align: right;\">\n",
       "      <th></th>\n",
       "      <th>artist</th>\n",
       "      <th>song</th>\n",
       "      <th>text</th>\n",
       "    </tr>\n",
       "  </thead>\n",
       "  <tbody>\n",
       "    <tr>\n",
       "      <th>0</th>\n",
       "      <td>Pink Floyd</td>\n",
       "      <td>Lucy Leave</td>\n",
       "      <td>leav , when i ask you to leav , luci pleas , f...</td>\n",
       "    </tr>\n",
       "    <tr>\n",
       "      <th>1</th>\n",
       "      <td>Pretenders</td>\n",
       "      <td>I'll Stand By You</td>\n",
       "      <td>oh , whi you look so sad , tear are in your ey...</td>\n",
       "    </tr>\n",
       "    <tr>\n",
       "      <th>2</th>\n",
       "      <td>Aerosmith</td>\n",
       "      <td>Permanent Vacation</td>\n",
       "      <td>i got a letter from a friend the other morn he...</td>\n",
       "    </tr>\n",
       "    <tr>\n",
       "      <th>3</th>\n",
       "      <td>Avril Lavigne</td>\n",
       "      <td>Give It Up</td>\n",
       "      <td>everytim you go away it actual kinda make my d...</td>\n",
       "    </tr>\n",
       "    <tr>\n",
       "      <th>4</th>\n",
       "      <td>Culture Club</td>\n",
       "      <td>Black Money</td>\n",
       "      <td>do you deal in black money ? do you deal in bl...</td>\n",
       "    </tr>\n",
       "    <tr>\n",
       "      <th>5</th>\n",
       "      <td>Judds</td>\n",
       "      <td>Mama He's Crazy</td>\n",
       "      <td>mama , i found someon like you said would come...</td>\n",
       "    </tr>\n",
       "    <tr>\n",
       "      <th>6</th>\n",
       "      <td>Justin Bieber</td>\n",
       "      <td>One Dance (Remix)</td>\n",
       "      <td>[ intro : kyla ] babi i like your style [ vers...</td>\n",
       "    </tr>\n",
       "    <tr>\n",
       "      <th>7</th>\n",
       "      <td>Kim Wilde</td>\n",
       "      <td>Back Street Joe</td>\n",
       "      <td>danc with back street joe that wa a time i lov...</td>\n",
       "    </tr>\n",
       "    <tr>\n",
       "      <th>8</th>\n",
       "      <td>Point Of Grace</td>\n",
       "      <td>Free Indeed</td>\n",
       "      <td>can you think of the way that we use to be we ...</td>\n",
       "    </tr>\n",
       "    <tr>\n",
       "      <th>9</th>\n",
       "      <td>Rascal Flatts</td>\n",
       "      <td>I'll Be Home For Christmas</td>\n",
       "      <td>i 'll be home for christma you can count on me...</td>\n",
       "    </tr>\n",
       "  </tbody>\n",
       "</table>\n",
       "</div>"
      ],
      "text/plain": [
       "           artist                        song  \\\n",
       "0      Pink Floyd                  Lucy Leave   \n",
       "1      Pretenders           I'll Stand By You   \n",
       "2       Aerosmith          Permanent Vacation   \n",
       "3   Avril Lavigne                  Give It Up   \n",
       "4    Culture Club                 Black Money   \n",
       "5           Judds             Mama He's Crazy   \n",
       "6   Justin Bieber           One Dance (Remix)   \n",
       "7       Kim Wilde             Back Street Joe   \n",
       "8  Point Of Grace                 Free Indeed   \n",
       "9   Rascal Flatts  I'll Be Home For Christmas   \n",
       "\n",
       "                                                text  \n",
       "0  leav , when i ask you to leav , luci pleas , f...  \n",
       "1  oh , whi you look so sad , tear are in your ey...  \n",
       "2  i got a letter from a friend the other morn he...  \n",
       "3  everytim you go away it actual kinda make my d...  \n",
       "4  do you deal in black money ? do you deal in bl...  \n",
       "5  mama , i found someon like you said would come...  \n",
       "6  [ intro : kyla ] babi i like your style [ vers...  \n",
       "7  danc with back street joe that wa a time i lov...  \n",
       "8  can you think of the way that we use to be we ...  \n",
       "9  i 'll be home for christma you can count on me...  "
      ]
     },
     "execution_count": 8,
     "metadata": {},
     "output_type": "execute_result"
    }
   ],
   "source": [
    "df.head(10)"
   ]
  },
  {
   "cell_type": "code",
   "execution_count": 9,
   "id": "26eb5b1c",
   "metadata": {},
   "outputs": [
    {
     "data": {
      "text/plain": [
       "\"leav , when i ask you to leav , luci pleas , far away from me , luci oh , go littl girl seen , is ( oh so ) broken up about you , luci mean , treat me and done me harm , luci been , in love with you and your charm , luci oh , go littl girl i 'm in love with you , luci you got my heart you got my heart , oh no ! you tear me apart you just wo n't let me go you hold on so tight , so tight i just ca n't breath now luci leav , luci leav , when i ask you to leav , littl girl pleas , far away from me , littl girl yeah ! go littl girl seen , is ( oh so ) broken up about you , luci yeah ! go .\""
      ]
     },
     "execution_count": 9,
     "metadata": {},
     "output_type": "execute_result"
    }
   ],
   "source": [
    "df['text'][0]"
   ]
  },
  {
   "cell_type": "code",
   "execution_count": 10,
   "id": "dc76d0f4",
   "metadata": {},
   "outputs": [],
   "source": [
    "# df = df.sample(5000)"
   ]
  },
  {
   "cell_type": "code",
   "execution_count": 11,
   "id": "4a0c4186",
   "metadata": {},
   "outputs": [
    {
     "data": {
      "text/plain": [
       "(5000, 3)"
      ]
     },
     "execution_count": 11,
     "metadata": {},
     "output_type": "execute_result"
    }
   ],
   "source": [
    "df.shape"
   ]
  },
  {
   "cell_type": "markdown",
   "id": "865afecc",
   "metadata": {},
   "source": [
    "Text Cleaning/ Text Preprocessing"
   ]
  },
  {
   "cell_type": "code",
   "execution_count": 12,
   "id": "b2359525",
   "metadata": {},
   "outputs": [],
   "source": [
    "df['text'] = df['text'].str.lower().replace(r'^\\w\\s', ' ').replace(r'\\n', ' ', regex = True)"
   ]
  },
  {
   "cell_type": "code",
   "execution_count": 13,
   "id": "fc5258e6-86b7-4618-b2f9-2464ba178195",
   "metadata": {},
   "outputs": [
    {
     "name": "stdout",
     "output_type": "stream",
     "text": [
      "Requirement already satisfied: nltk in /opt/anaconda3/envs/myenv/lib/python3.13/site-packages (3.9.1)\n",
      "Requirement already satisfied: click in /opt/anaconda3/envs/myenv/lib/python3.13/site-packages (from nltk) (8.2.1)\n",
      "Requirement already satisfied: joblib in /opt/anaconda3/envs/myenv/lib/python3.13/site-packages (from nltk) (1.5.1)\n",
      "Requirement already satisfied: regex>=2021.8.3 in /opt/anaconda3/envs/myenv/lib/python3.13/site-packages (from nltk) (2024.11.6)\n",
      "Requirement already satisfied: tqdm in /opt/anaconda3/envs/myenv/lib/python3.13/site-packages (from nltk) (4.67.1)\n",
      "Note: you may need to restart the kernel to use updated packages.\n"
     ]
    }
   ],
   "source": [
    "pip install nltk\n"
   ]
  },
  {
   "cell_type": "code",
   "execution_count": 14,
   "id": "7e78451e",
   "metadata": {},
   "outputs": [],
   "source": [
    "from nltk.tokenize import TreebankWordTokenizer\n",
    "from nltk.stem.porter import PorterStemmer\n",
    "\n",
    "tokenizer = TreebankWordTokenizer()\n",
    "stemmer = PorterStemmer()\n",
    "\n",
    "def tokenization(txt):\n",
    "    tokens = tokenizer.tokenize(txt)  # Avoids the broken sent_tokenize route\n",
    "    stemming = [stemmer.stem(w) for w in tokens]\n",
    "    return \" \".join(stemming)\n"
   ]
  },
  {
   "cell_type": "code",
   "execution_count": 15,
   "id": "ab9a6c59-9cf1-46e6-a63a-3072ad7f4ba8",
   "metadata": {},
   "outputs": [
    {
     "name": "stderr",
     "output_type": "stream",
     "text": [
      "[nltk_data] Downloading package punkt to\n",
      "[nltk_data]     /Users/srivastava/nltk_data...\n",
      "[nltk_data]   Package punkt is already up-to-date!\n"
     ]
    },
    {
     "data": {
      "text/plain": [
       "True"
      ]
     },
     "execution_count": 15,
     "metadata": {},
     "output_type": "execute_result"
    }
   ],
   "source": [
    "import nltk\n",
    "nltk.download('punkt')\n"
   ]
  },
  {
   "cell_type": "code",
   "execution_count": 16,
   "id": "f5c1ece2",
   "metadata": {},
   "outputs": [],
   "source": [
    "df['text'] = df['text'].apply(tokenization)"
   ]
  },
  {
   "cell_type": "code",
   "execution_count": 17,
   "id": "95fc3be2",
   "metadata": {},
   "outputs": [],
   "source": [
    "from sklearn.feature_extraction.text import TfidfVectorizer\n",
    "from sklearn.metrics.pairwise import cosine_similarity"
   ]
  },
  {
   "cell_type": "code",
   "execution_count": 18,
   "id": "f4945e8f",
   "metadata": {},
   "outputs": [],
   "source": [
    "tfidvector = TfidfVectorizer(analyzer='word',stop_words='english')\n",
    "matrix = tfidvector.fit_transform(df['text'])\n",
    "similarity = cosine_similarity(matrix)"
   ]
  },
  {
   "cell_type": "code",
   "execution_count": 19,
   "id": "c1794772",
   "metadata": {},
   "outputs": [
    {
     "data": {
      "text/plain": [
       "array([1.        , 0.02818125, 0.03210611, ..., 0.10256227, 0.01659779,\n",
       "       0.02870928], shape=(5000,))"
      ]
     },
     "execution_count": 19,
     "metadata": {},
     "output_type": "execute_result"
    }
   ],
   "source": [
    "similarity[0]"
   ]
  },
  {
   "cell_type": "code",
   "execution_count": 20,
   "id": "a6221770",
   "metadata": {},
   "outputs": [
    {
     "data": {
      "text/html": [
       "<div>\n",
       "<style scoped>\n",
       "    .dataframe tbody tr th:only-of-type {\n",
       "        vertical-align: middle;\n",
       "    }\n",
       "\n",
       "    .dataframe tbody tr th {\n",
       "        vertical-align: top;\n",
       "    }\n",
       "\n",
       "    .dataframe thead th {\n",
       "        text-align: right;\n",
       "    }\n",
       "</style>\n",
       "<table border=\"1\" class=\"dataframe\">\n",
       "  <thead>\n",
       "    <tr style=\"text-align: right;\">\n",
       "      <th></th>\n",
       "      <th>artist</th>\n",
       "      <th>song</th>\n",
       "      <th>text</th>\n",
       "    </tr>\n",
       "  </thead>\n",
       "  <tbody>\n",
       "  </tbody>\n",
       "</table>\n",
       "</div>"
      ],
      "text/plain": [
       "Empty DataFrame\n",
       "Columns: [artist, song, text]\n",
       "Index: []"
      ]
     },
     "execution_count": 20,
     "metadata": {},
     "output_type": "execute_result"
    }
   ],
   "source": [
    "df[df['song'] == 'Crying Over You']"
   ]
  },
  {
   "cell_type": "code",
   "execution_count": 21,
   "id": "5aaa2361",
   "metadata": {},
   "outputs": [],
   "source": [
    "def recommendation(song_df):\n",
    "    idx = df[df['song'] == song_df].index[0]\n",
    "    distances = sorted(list(enumerate(similarity[idx])),reverse=True,key=lambda x:x[1])\n",
    "    \n",
    "    songs = []\n",
    "    for m_id in distances[1:21]:\n",
    "        songs.append(df.iloc[m_id[0]].song)\n",
    "        \n",
    "    return songs"
   ]
  },
  {
   "cell_type": "code",
   "execution_count": 23,
   "id": "216c25bb",
   "metadata": {},
   "outputs": [
    {
     "data": {
      "text/plain": [
       "['Rubber Lucy',\n",
       " \"Lucy Can't Dance\",\n",
       " \"I'm Not A Stranger\",\n",
       " 'Lucy In The Sky With Diamonds',\n",
       " 'Edge Of The Moon',\n",
       " 'White Lightening',\n",
       " 'Land Of 1000 Dances',\n",
       " 'Oh Girl',\n",
       " 'Out Of Town Girl',\n",
       " 'Hey Little Girl',\n",
       " 'Little Girls',\n",
       " 'Leaving Here',\n",
       " \"She's Leaving You\",\n",
       " 'A Little Bit Of Green',\n",
       " 'Just A Little Bit Of Your Heart',\n",
       " \"Don't Leave Me Where You Found Me\",\n",
       " 'Hand On My Heart',\n",
       " 'Go On Girl',\n",
       " 'One Time',\n",
       " 'For The Girl Who Has Everything']"
      ]
     },
     "execution_count": 23,
     "metadata": {},
     "output_type": "execute_result"
    }
   ],
   "source": [
    "recommendation('Lucy Leave')"
   ]
  },
  {
   "cell_type": "code",
   "execution_count": 24,
   "id": "18192437",
   "metadata": {},
   "outputs": [],
   "source": [
    "import pickle\n",
    "pickle.dump(similarity,open('similarity_yt.pkl','wb'))\n",
    "pickle.dump(df,open('df_yt.pkl','wb'))"
   ]
  },
  {
   "cell_type": "code",
   "execution_count": null,
   "id": "e7edcf20",
   "metadata": {},
   "outputs": [],
   "source": []
  }
 ],
 "metadata": {
  "kernelspec": {
   "display_name": "Python 3 (ipykernel)",
   "language": "python",
   "name": "python3"
  },
  "language_info": {
   "codemirror_mode": {
    "name": "ipython",
    "version": 3
   },
   "file_extension": ".py",
   "mimetype": "text/x-python",
   "name": "python",
   "nbconvert_exporter": "python",
   "pygments_lexer": "ipython3",
   "version": "3.13.5"
  }
 },
 "nbformat": 4,
 "nbformat_minor": 5
}
